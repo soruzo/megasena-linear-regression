{
  "nbformat": 4,
  "nbformat_minor": 0,
  "metadata": {
    "colab": {
      "provenance": [],
      "authorship_tag": "ABX9TyMWqSff0L7YLP1EZFnqOjMz",
      "include_colab_link": true
    },
    "kernelspec": {
      "name": "python3",
      "display_name": "Python 3"
    },
    "language_info": {
      "name": "python"
    }
  },
  "cells": [
    {
      "cell_type": "markdown",
      "metadata": {
        "id": "view-in-github",
        "colab_type": "text"
      },
      "source": [
        "<a href=\"https://colab.research.google.com/github/soruzo/megasena-linear-regression/blob/main/megasena_ml.ipynb\" target=\"_parent\"><img src=\"https://colab.research.google.com/assets/colab-badge.svg\" alt=\"Open In Colab\"/></a>"
      ]
    },
    {
      "cell_type": "code",
      "source": [
        "import itertools\n",
        "import pandas as pd\n",
        "import numpy as np\n",
        "from keras.models import Sequential\n",
        "from keras.layers import Dense, Dropout\n",
        "from keras.callbacks import EarlyStopping\n"
      ],
      "metadata": {
        "id": "DqAoPA5UM2p6"
      },
      "execution_count": 3,
      "outputs": []
    },
    {
      "cell_type": "code",
      "source": [
        "def to_binary_matrix(lst):\n",
        "    binary = np.zeros((len(lst), 60))\n",
        "    for i, num in enumerate(lst):\n",
        "        binary[i][num - 1] = 1\n",
        "    return binary"
      ],
      "metadata": {
        "id": "EqyP3aBKM75f"
      },
      "execution_count": 4,
      "outputs": []
    },
    {
      "cell_type": "code",
      "source": [
        "# Lendo o arquivo\n",
        "df = pd.read_excel('data.xlsx', header=6)\n",
        "\n",
        "# Ajuste os índices das colunas conforme necessário\n",
        "df_resultados = df.iloc[:, 2:8]\n",
        "\n",
        "# Convertendo os dados para inteiros\n",
        "df_resultados_int = df_resultados.apply(pd.to_numeric, errors='coerce').dropna()\n",
        "\n",
        "# Convertendo os dados para uma matriz numpy\n",
        "data = df_resultados_int.values.astype(int)\n",
        "\n",
        "# Convertendo os dados de entrada em uma matriz bin\n",
        "binary_data = to_binary_matrix(list(itertools.chain.from_iterable(data)))\n",
        "\n",
        "# Separando os dados de entrada (X) dos dados de saída (y)\n",
        "X = binary_data[:-1]\n",
        "y = binary_data[1:]"
      ],
      "metadata": {
        "colab": {
          "base_uri": "https://localhost:8080/"
        },
        "id": "SCgVGZZ4Vr-I",
        "outputId": "69478e9d-bddc-473f-9d0f-5a1a34845ae5"
      },
      "execution_count": 15,
      "outputs": [
        {
          "output_type": "stream",
          "name": "stdout",
          "text": [
            "      bola 1  bola 2  bola 3  bola 4  bola 5  bola 6\n",
            "0         46      30      41      27       1      57\n",
            "1          4      46      21      51       8       1\n",
            "2         29       5      43      47      30      25\n",
            "3          3      39      21      22      14      37\n",
            "4         15      40      17      12      52      30\n",
            "...      ...     ...     ...     ...     ...     ...\n",
            "2663       1      19      46       6      16       2\n",
            "2664       6      59      42      27       1       5\n",
            "2665      36      30      10      11      29      47\n",
            "2666       9      39      37      49      43      41\n",
            "2667      41       5       4      52      30      33\n",
            "\n",
            "[2668 rows x 6 columns]\n"
          ]
        }
      ]
    },
    {
      "cell_type": "code",
      "execution_count": 16,
      "metadata": {
        "colab": {
          "base_uri": "https://localhost:8080/"
        },
        "id": "UGA7S31jMkmv",
        "outputId": "8bbf57d2-2f36-4546-ec3a-922b25aefdda"
      },
      "outputs": [
        {
          "output_type": "stream",
          "name": "stdout",
          "text": [
            "Epoch 1/100\n",
            "401/401 [==============================] - 4s 6ms/step - loss: 4.0964 - accuracy: 0.0194 - val_loss: 4.0956 - val_accuracy: 0.0153\n",
            "Epoch 2/100\n",
            "401/401 [==============================] - 2s 5ms/step - loss: 4.0868 - accuracy: 0.0212 - val_loss: 4.1000 - val_accuracy: 0.0178\n",
            "Epoch 3/100\n",
            "401/401 [==============================] - 1s 4ms/step - loss: 4.0766 - accuracy: 0.0257 - val_loss: 4.1071 - val_accuracy: 0.0137\n",
            "Epoch 4/100\n",
            "401/401 [==============================] - 2s 4ms/step - loss: 4.0643 - accuracy: 0.0303 - val_loss: 4.1114 - val_accuracy: 0.0144\n",
            "Epoch 5/100\n",
            "401/401 [==============================] - 2s 4ms/step - loss: 4.0550 - accuracy: 0.0285 - val_loss: 4.1254 - val_accuracy: 0.0172\n",
            "Epoch 6/100\n",
            "401/401 [==============================] - 1s 4ms/step - loss: 4.0429 - accuracy: 0.0305 - val_loss: 4.1373 - val_accuracy: 0.0137\n",
            "Epoch 7/100\n",
            "401/401 [==============================] - 3s 6ms/step - loss: 4.0353 - accuracy: 0.0306 - val_loss: 4.1404 - val_accuracy: 0.0150\n",
            "Epoch 8/100\n",
            "401/401 [==============================] - 1s 4ms/step - loss: 4.0315 - accuracy: 0.0323 - val_loss: 4.1479 - val_accuracy: 0.0116\n",
            "Epoch 9/100\n",
            "401/401 [==============================] - 2s 4ms/step - loss: 4.0246 - accuracy: 0.0333 - val_loss: 4.1568 - val_accuracy: 0.0122\n",
            "Epoch 10/100\n",
            "401/401 [==============================] - 2s 4ms/step - loss: 4.0204 - accuracy: 0.0323 - val_loss: 4.1618 - val_accuracy: 0.0144\n",
            "Epoch 11/100\n",
            "401/401 [==============================] - 1s 3ms/step - loss: 4.0164 - accuracy: 0.0316 - val_loss: 4.1673 - val_accuracy: 0.0103\n"
          ]
        },
        {
          "output_type": "execute_result",
          "data": {
            "text/plain": [
              "<keras.src.callbacks.History at 0x79d6b3197820>"
            ]
          },
          "metadata": {},
          "execution_count": 16
        }
      ],
      "source": [
        "# Criando o modelo da rede neural\n",
        "model = Sequential()\n",
        "model.add(Dense(128, input_dim=60, activation='relu'))\n",
        "model.add(Dropout(0.2))\n",
        "model.add(Dense(128, activation='relu'))\n",
        "model.add(Dropout(0.2))\n",
        "model.add(Dense(60, activation='softmax'))\n",
        "model.compile(loss='categorical_crossentropy', optimizer='adam', metrics=['accuracy'])\n",
        "\n",
        "# Adicionando Early Stopping\n",
        "early_stopping = EarlyStopping(monitor='val_loss', patience=10)\n",
        "\n",
        "# Treinando o modelo com validação e early stopping\n",
        "model.fit(X, y, epochs=100, batch_size=32, verbose=1, validation_split=0.2, callbacks=[early_stopping])"
      ]
    },
    {
      "cell_type": "code",
      "source": [
        "# Gerando as próximas possíveis 10 sequências de 6 números\n",
        "test_data = [data[-1]]\n",
        "for i in range(5):\n",
        "    # Convertendo os dados de entrada em uma matriz binária\n",
        "    binary_test_data = to_binary_matrix(list(itertools.chain.from_iterable(test_data)))\n",
        "    # Prevendo a próxima sequência de 6 números\n",
        "    prob = model.predict(binary_test_data[-1].reshape(1, 60))\n",
        "    next_seq = list(np.argsort(prob[0])[::-1][:6] + 1)\n",
        "    # Adicionando a próxima sequência à lista de test_data\n",
        "    test_data.append(next_seq)\n",
        "\n",
        "# Imprimindo as próximas sequências\n",
        "for i, seq in enumerate(test_data[1:]):\n",
        "    print(f\"Próxima sequência {i + 1}: {seq}\")"
      ],
      "metadata": {
        "colab": {
          "base_uri": "https://localhost:8080/"
        },
        "id": "EAWVgJ03MysS",
        "outputId": "2dfe7647-5720-40bc-9cce-46e33d0871d9"
      },
      "execution_count": null,
      "outputs": [
        {
          "output_type": "stream",
          "name": "stdout",
          "text": [
            "1/1 [==============================] - 0s 125ms/step\n",
            "1/1 [==============================] - 0s 27ms/step\n",
            "1/1 [==============================] - 0s 29ms/step\n",
            "1/1 [==============================] - 0s 31ms/step\n",
            "1/1 [==============================] - 0s 29ms/step\n",
            "Próxima sequência 1: [10, 24, 18, 40, 9, 51]\n",
            "Próxima sequência 2: [37, 27, 31, 58, 34, 9]\n",
            "Próxima sequência 3: [56, 41, 48, 30, 7, 43]\n",
            "Próxima sequência 4: [28, 34, 48, 2, 5, 7]\n",
            "Próxima sequência 5: [30, 42, 10, 18, 12, 40]\n"
          ]
        }
      ]
    }
  ]
}